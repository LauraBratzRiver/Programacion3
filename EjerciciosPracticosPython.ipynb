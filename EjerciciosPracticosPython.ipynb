{
  "nbformat": 4,
  "nbformat_minor": 0,
  "metadata": {
    "colab": {
      "name": "EjerciciosPracticosPython.ipynb",
      "provenance": [],
      "authorship_tag": "ABX9TyNWuGgl+3VUvgRuG/TmG1bM",
      "include_colab_link": true
    },
    "kernelspec": {
      "name": "python3",
      "display_name": "Python 3"
    },
    "language_info": {
      "name": "python"
    }
  },
  "cells": [
    {
      "cell_type": "markdown",
      "metadata": {
        "id": "view-in-github",
        "colab_type": "text"
      },
      "source": [
        "<a href=\"https://colab.research.google.com/github/LauraRivera01/Programacion3/blob/main/EjerciciosPracticosPython.ipynb\" target=\"_parent\"><img src=\"https://colab.research.google.com/assets/colab-badge.svg\" alt=\"Open In Colab\"/></a>"
      ]
    },
    {
      "cell_type": "markdown",
      "metadata": {
        "id": "m9ZM2ot6PhTT"
      },
      "source": [
        "**Ejercicios prácticos en Python **\n",
        "\n",
        "Calcular sobre el sueldo las deducciones por ley ISSS (3%), AFP(6.25%), ISR(Según tabla) e imprima el total deducciones y sueldo neto. (20%)\n"
      ]
    },
    {
      "cell_type": "code",
      "metadata": {
        "id": "AiTg9ODSP6Bx"
      },
      "source": [
        "sueldo = float(input(\"Sueldo: \"))\n",
        "isss = sueldo*0.03\n",
        "afp = sueldo*0.0625\n",
        "sueldoNeto = sueldo-(isss+afp)\n",
        "impSr = 0\n",
        "\n",
        "tablaIsr = [\n",
        "            [0.01,472,0,0],\n",
        "            [472.01,895.24,0.1,17.67],\n",
        "            [895.25, 2038.10, 0.2, 60],\n",
        "            [2038.11,99999,0.30,288.57]\n",
        "]\n",
        "for isr in tablaIsr:\n",
        "  if sueldoNeto>isr[0] and sueldoNeto<=isr[1]:\n",
        "    impSr=(sueldoNeto-isr[0])*isr[2] + isr[3]\n",
        "print(\"Total deducciones\", (isss+afp+impSr), \"Sueldo Neto: \", sueldoNeto-impSr)"
      ],
      "execution_count": null,
      "outputs": []
    },
    {
      "cell_type": "markdown",
      "metadata": {
        "id": "9zshtJLqQABM"
      },
      "source": [
        "Calcular el valor a pagar según el número de metros consumidos de agua potable (Ver tabla en la siguiente diapositiva). (20%)"
      ]
    },
    {
      "cell_type": "code",
      "metadata": {
        "id": "5tMIdf1TQPyv"
      },
      "source": [
        ""
      ],
      "execution_count": null,
      "outputs": []
    },
    {
      "cell_type": "markdown",
      "metadata": {
        "id": "IsqmTPZkQQG5"
      },
      "source": [
        "Desarrolle la tabla de meses acumulados a n meses. Si puede encontrar la formula matemática para evitar ciclos. (10%)"
      ]
    },
    {
      "cell_type": "code",
      "metadata": {
        "colab": {
          "base_uri": "https://localhost:8080/",
          "height": 248
        },
        "id": "xM5kEBFWQQ-D",
        "outputId": "3ac4d01f-ade2-42ee-e4ec-ad736c7734c3"
      },
      "source": [
        "mesesAcumulados = lambda  suma:(n1+n2)\n",
        "n1 = float(input(\"Dime los meses acumulados: \"))\n",
        "n2 = float(input(\"Dime el numero de meses: \"))\n",
        "\n",
        "resp = mesesAcumulados(n1, n2)\n",
        "print(\"La suma es: \", resp)"
      ],
      "execution_count": null,
      "outputs": [
        {
          "output_type": "stream",
          "text": [
            "Dime los meses acumulados: 5\n",
            "Dime el numero de meses: 5\n"
          ],
          "name": "stdout"
        },
        {
          "output_type": "error",
          "ename": "TypeError",
          "evalue": "ignored",
          "traceback": [
            "\u001b[0;31m---------------------------------------------------------------------------\u001b[0m",
            "\u001b[0;31mTypeError\u001b[0m                                 Traceback (most recent call last)",
            "\u001b[0;32m<ipython-input-25-85963fa346bc>\u001b[0m in \u001b[0;36m<module>\u001b[0;34m()\u001b[0m\n\u001b[1;32m      3\u001b[0m \u001b[0mn2\u001b[0m \u001b[0;34m=\u001b[0m \u001b[0mfloat\u001b[0m\u001b[0;34m(\u001b[0m\u001b[0minput\u001b[0m\u001b[0;34m(\u001b[0m\u001b[0;34m\"Dime el numero de meses: \"\u001b[0m\u001b[0;34m)\u001b[0m\u001b[0;34m)\u001b[0m\u001b[0;34m\u001b[0m\u001b[0;34m\u001b[0m\u001b[0m\n\u001b[1;32m      4\u001b[0m \u001b[0;34m\u001b[0m\u001b[0m\n\u001b[0;32m----> 5\u001b[0;31m \u001b[0mresp\u001b[0m \u001b[0;34m=\u001b[0m \u001b[0mmesesAcumulados\u001b[0m\u001b[0;34m(\u001b[0m\u001b[0mn1\u001b[0m\u001b[0;34m,\u001b[0m \u001b[0mn2\u001b[0m\u001b[0;34m)\u001b[0m\u001b[0;34m\u001b[0m\u001b[0;34m\u001b[0m\u001b[0m\n\u001b[0m\u001b[1;32m      6\u001b[0m \u001b[0mprint\u001b[0m\u001b[0;34m(\u001b[0m\u001b[0;34m\"La suma es: \"\u001b[0m\u001b[0;34m,\u001b[0m \u001b[0mresp\u001b[0m\u001b[0;34m)\u001b[0m\u001b[0;34m\u001b[0m\u001b[0;34m\u001b[0m\u001b[0m\n",
            "\u001b[0;31mTypeError\u001b[0m: <lambda>() takes 1 positional argument but 2 were given"
          ]
        }
      ]
    },
    {
      "cell_type": "markdown",
      "metadata": {
        "id": "8dJJ0OvRQY-I"
      },
      "source": [
        "Conversores: (40%) (10 ítems como mínimo por cada uno)\n",
        "•Monedas (Resuelto en clases)•Longitud•Masa•Almacenamiento•Tiempo •Volumen•Área•Manzanas •Tareas"
      ]
    },
    {
      "cell_type": "code",
      "metadata": {
        "id": "_E70QN39QiVf"
      },
      "source": [
        ""
      ],
      "execution_count": null,
      "outputs": []
    },
    {
      "cell_type": "markdown",
      "metadata": {
        "id": "pDPEe0cFQmrP"
      },
      "source": [
        "Realizar un conversor propio, donde espesifique el valor de conversión: (10%)\n",
        "•1 caja -> 25 unidad. Viceversa 80 unidades – 3/5 -> cajas/unidades•1 saco -> 50 libras. Viceversa 130 libras – 2/30 -> sacos/libras•1 fardo -> 5 unidades. Viceversa 28 unidades – 5/3 -> fardos/unidades"
      ]
    },
    {
      "cell_type": "code",
      "metadata": {
        "colab": {
          "base_uri": "https://localhost:8080/"
        },
        "id": "BMFvIQC0QqS3",
        "outputId": "73fe5c83-0115-45e8-a594-0f1605e6b312"
      },
      "source": [
        "Cajas = int(input(\"Ingrese la cantidad de Cajas a convertir en unidades: \"))\n",
        "Saco = int(input(\"Ingrese la cantidad de Saco a convertir en libras: \"))\n",
        "Fardo = int(input(\"Ingrese la cantidad de Fardo a convertir en unidades: \"))\n",
        "if Cajas<= 1:\n",
        "  print(\"25 Unidades\")\n",
        "elif Cajas<= 1.5:\n",
        "  print(\"30 Unidades\")\n",
        "elif Cajas<2:\n",
        "  print(\"50 unidades\")\n",
        "elif Cajas<= 2/5:\n",
        "  print(\"55 Unidades\")\n",
        "elif Cajas<3:\n",
        "  print(\"75 unidades\")\n",
        "elif Cajas<=3.5:\n",
        "  print(\"80 unidades\")\n",
        "else:\n",
        "  print(\"Incorrecto\")"
      ],
      "execution_count": null,
      "outputs": [
        {
          "output_type": "stream",
          "text": [
            "Ingrese la cantidad de Cajas a convertir en unidades: 1\n",
            "Ingrese la cantidad de Saco a convertir en libras: 1\n",
            "Ingrese la cantidad de Fardo a convertir en unidades: 1\n",
            "25 Unidades\n"
          ],
          "name": "stdout"
        }
      ]
    },
    {
      "cell_type": "code",
      "metadata": {
        "colab": {
          "base_uri": "https://localhost:8080/"
        },
        "id": "DdAtpAhPR-ID",
        "outputId": "08cf1ac1-8082-46b3-f5d3-1922717d74da"
      },
      "source": [
        "edad = int(input(\"Edad: \"))\n",
        "if edad<=2:\n",
        "  print(\"Eres un bebe\")\n",
        "elif edad<12:\n",
        "  print(\"Eres un niño\")\n",
        "elif edad<18:\n",
        "  print(\"Eres un adolescente\")\n",
        "elif edad<=60:\n",
        "  print(\"Eres mayor de edad\")\n",
        "elif edad<=80:\n",
        "  print(\"Eres un adulto mayor\")\n",
        "elif edad<=130:\n",
        "  print(\"Larga vida\")\n",
        "else:\n",
        "  print(\"Edad incorrecta\")"
      ],
      "execution_count": null,
      "outputs": [
        {
          "output_type": "stream",
          "text": [
            "Edad: 25\n",
            "Eres mayor de edad\n"
          ],
          "name": "stdout"
        }
      ]
    }
  ]
}