{
  "nbformat": 4,
  "nbformat_minor": 0,
  "metadata": {
    "colab": {
      "name": "Copia de EjerciciosPracticosPython.ipynb",
      "provenance": [],
      "collapsed_sections": [],
      "authorship_tag": "ABX9TyP0jOUIfNxWnCQedG2oNfz3",
      "include_colab_link": true
    },
    "kernelspec": {
      "name": "python3",
      "display_name": "Python 3"
    },
    "language_info": {
      "name": "python"
    }
  },
  "cells": [
    {
      "cell_type": "markdown",
      "metadata": {
        "id": "view-in-github",
        "colab_type": "text"
      },
      "source": [
        "<a href=\"https://colab.research.google.com/github/LauraRivera01/Programacion3/blob/main/Copia_de_EjerciciosPracticosPython.ipynb\" target=\"_parent\"><img src=\"https://colab.research.google.com/assets/colab-badge.svg\" alt=\"Open In Colab\"/></a>"
      ]
    },
    {
      "cell_type": "markdown",
      "metadata": {
        "id": "m9ZM2ot6PhTT"
      },
      "source": [
        "**Ejercicios prácticos en Python **\n",
        "\n",
        "Calcular sobre el sueldo las deducciones por ley ISSS (3%), AFP(6.25%), ISR(Según tabla) e imprima el total deducciones y sueldo neto. (20%)\n"
      ]
    },
    {
      "cell_type": "code",
      "metadata": {
        "id": "AiTg9ODSP6Bx",
        "colab": {
          "base_uri": "https://localhost:8080/"
        },
        "outputId": "5cbd80ca-b5fa-4653-b742-b41911c8859e"
      },
      "source": [
        "sueldo = float(input(\"Sueldo: \"))\n",
        "isss = sueldo*0.03\n",
        "afp = sueldo*0.0625\n",
        "sueldoNeto = sueldo-(isss+afp)\n",
        "impSr = 0\n",
        "\n",
        "tablaIsr = [\n",
        "            [0.01,472,0,0],\n",
        "            [472.01,895.24,0.1,17.67],\n",
        "            [895.25, 2038.10, 0.2, 60],\n",
        "            [2038.11,99999,0.30,288.57]\n",
        "]\n",
        "for isr in tablaIsr:\n",
        "  if sueldoNeto>isr[0] and sueldoNeto<=isr[1]:\n",
        "    impSr=(sueldoNeto-isr[0])*isr[2] + isr[3]\n",
        "print(\"Total deducciones\", (isss+afp+impSr), \"Sueldo Neto: \", sueldoNeto-impSr)"
      ],
      "execution_count": null,
      "outputs": [
        {
          "output_type": "stream",
          "text": [
            "Sueldo: 250\n",
            "Total deducciones 23.125 Sueldo Neto:  226.875\n"
          ],
          "name": "stdout"
        }
      ]
    },
    {
      "cell_type": "markdown",
      "metadata": {
        "id": "9zshtJLqQABM"
      },
      "source": [
        "Calcular el valor a pagar según el número de metros consumidos de agua potable (Ver tabla en la siguiente diapositiva). (20%)"
      ]
    },
    {
      "cell_type": "code",
      "metadata": {
        "id": "5tMIdf1TQPyv",
        "colab": {
          "base_uri": "https://localhost:8080/"
        },
        "outputId": "773e5632-72fc-4fe0-dcd8-01492c422989"
      },
      "source": [
        "alto_en_m = float (input ('Ingresa el valor de alto en m: '))\n",
        "ancho_en_m = float (input ('Ingresa el valor de ancho en m: '))\n",
        "largo_en_m = float (input ('Ingresa el valor de largo en m: '))\n",
        "precio_por_m3 = float (input ('Ingresa el valor de precio por m3: '))\n",
        "volumen_en_m3=alto_en_m*largo_en_m*ancho_en_m\n",
        "pago=volumen_en_m3*precio_por_m3\n",
        "print ('Valor de pago: ' + repr (pago))\n",
        "print ('Valor de volumen en m3: ' + repr (volumen_en_m3))\n",
        "print ()"
      ],
      "execution_count": null,
      "outputs": [
        {
          "output_type": "stream",
          "text": [
            "Ingresa el valor de alto en m: 1500\n",
            "Ingresa el valor de ancho en m: 200\n",
            "Ingresa el valor de largo en m: 120\n",
            "Ingresa el valor de precio por m3: 2550\n",
            "Valor de pago: 91800000000.0\n",
            "Valor de volumen en m3: 36000000.0\n",
            "\n"
          ],
          "name": "stdout"
        }
      ]
    },
    {
      "cell_type": "code",
      "metadata": {
        "colab": {
          "base_uri": "https://localhost:8080/"
        },
        "id": "VJWpG7DiX0mZ",
        "outputId": "b36f0d58-b1fa-4971-a2b9-7513af488001"
      },
      "source": [
        "ValorPagar = float(input(\"Metros Consumidos: \"))\n",
        "Mcubicos = ValorPagar*0.10\n",
        "Tarifa = ValorPagar*2.29\n",
        "PagoNeto = Mcubicos*Tarifa\n",
        "impSr = 0\n",
        "\n",
        "tablaMtrCubicos = [\n",
        "                 [,0,0,0,0],\n",
        "                 [0.48,0,0,0],\n",
        "                 [0.65, 0, 0, 0],\n",
        "                 \n",
        "]\n",
        "for MtrCubicos in tablaMtrCubicos:\n",
        "  if PagoNeto>isr[0] and PagoNeto<=MtrCubicos[1]:\n",
        "    impSr=(PagoNeto-MtrCubicos[0])*MtrCubicos[2] + MtrCubicos[3]\n",
        "print(\"Total Pagar\", (Mconsumidos+Mexcesivos+impSr), \"Valor a Pagar: \", PagoNeto-impSr)"
      ],
      "execution_count": null,
      "outputs": [
        {
          "output_type": "stream",
          "text": [
            "Metros Consumidos: 50\n",
            "Total Pagar 787.5 Valor a Pagar:  -737.5\n"
          ],
          "name": "stdout"
        }
      ]
    },
    {
      "cell_type": "markdown",
      "metadata": {
        "id": "IsqmTPZkQQG5"
      },
      "source": [
        "Desarrolle la tabla de meses acumulados a n meses. Si puede encontrar la formula matemática para evitar ciclos. (10%)"
      ]
    },
    {
      "cell_type": "code",
      "metadata": {
        "colab": {
          "base_uri": "https://localhost:8080/",
          "height": 129
        },
        "id": "xM5kEBFWQQ-D",
        "outputId": "b1c2868b-c5af-4632-e0f5-1b5b265d653d"
      },
      "source": [
        "def MeseAcu(lista):\n",
        "\n",
        "for meses in lista:\n",
        "  suma += meses\n",
        "                      \n",
        "return suma\n",
        "meses=[\"enero\", \"febrero\", \"marzo\", \"abril\",\"mayo\",\"junio\", \"julio\", \"agosto\", \"septiembre\", \"octubre\", \"noviembre\", \"diciembre\"]\n",
        "\n",
        "print(MeseAcu(meses))\n",
        "\n"
      ],
      "execution_count": null,
      "outputs": [
        {
          "output_type": "error",
          "ename": "IndentationError",
          "evalue": "ignored",
          "traceback": [
            "\u001b[0;36m  File \u001b[0;32m\"<ipython-input-20-81b46cbeb957>\"\u001b[0;36m, line \u001b[0;32m3\u001b[0m\n\u001b[0;31m    for meses in lista:\u001b[0m\n\u001b[0m      ^\u001b[0m\n\u001b[0;31mIndentationError\u001b[0m\u001b[0;31m:\u001b[0m expected an indented block\n"
          ]
        }
      ]
    },
    {
      "cell_type": "code",
      "metadata": {
        "colab": {
          "base_uri": "https://localhost:8080/"
        },
        "id": "9lyPF1CP7YT5",
        "outputId": "ed4d2020-5960-41e8-a246-2def29485bb6"
      },
      "source": [
        "meses=[\"enero\", \"febrero\", \"marzo\", \"abril\",\"mayo\",\"junio\", \"julio\", \"agosto\", \"septiembre\", \"octubre\", \"noviembre\", \"diciembre\"]\n",
        "\n",
        "print(meses[0]) # se muestra enero\n",
        "print(meses[3]) # se muestra abril"
      ],
      "execution_count": null,
      "outputs": [
        {
          "output_type": "stream",
          "text": [
            "enero\n",
            "abril\n"
          ],
          "name": "stdout"
        }
      ]
    },
    {
      "cell_type": "markdown",
      "metadata": {
        "id": "8dJJ0OvRQY-I"
      },
      "source": [
        "Conversores: (40%) (10 ítems como mínimo por cada uno)\n",
        "•Monedas (Resuelto en clases)•Longitud•Masa•Almacenamiento•Tiempo •Volumen•Área•Manzanas •Tareas"
      ]
    },
    {
      "cell_type": "code",
      "metadata": {
        "id": "C5p4n9l2W6CT"
      },
      "source": [
        "def exchanges(conversor,cantidad):\n",
        "    result = 0\n",
        "    # Longitud\n",
        "    if moneda == 1:\n",
        "        result = cantidad * 8.75\n",
        "        print(f'Los {cantidad} pesos salvadoreños equivalen a {result} dolares')\n",
        "    # Moneda colombiana\n",
        "    elif moneda == 2:\n",
        "        result = cantidad * 0.00027\n",
        "        print(f'Los {cantidad} pesos colombianos equivalen a {result} dolares')\n",
        "    # Moneda Argentina\n",
        "    elif moneda == 3:\n",
        "        result = cantidad * 0.014\n",
        "        print(f'Los {cantidad} pesos argentinos equivalen a {result} dolares')\n",
        "    # Moneda mexicana\n",
        "    elif moneda == 4:\n",
        "        result = cantidad * 0.044\n",
        "        print(f'Los {cantidad} pesos mexicanos equivalen a {result} dolares')\n",
        "    # Otro\n",
        "    else:\n",
        "        print('Ingresa solo un numero de la lista')\n",
        "\n",
        "\n",
        "if __name__ == '__main__':\n",
        "    try:\n",
        "        moneda = int(input('''\n",
        "        Ingresa el indice de la moneda que quieres convertira  dolar:\n",
        "            [1] Moneda salvadoreña a Dolar\n",
        "            [2] Moneda colombiana a Dolar\n",
        "            [3] Moneda argentida a Dolar\n",
        "            [4] Moneda mexicana a Dolar\n",
        "        Selecciona: '''))\n",
        "        print('********************************')\n",
        "        cantidad = int(input('Ingresa la cantidad que quieres convertir: '))\n",
        "        exchanges(moneda,cantidad)\n",
        "    except:\n",
        "        print('* * * * * * E R R O R * * * * * *')\n",
        "        print('Por favor, Ingresa solo valores numericos')"
      ],
      "execution_count": null,
      "outputs": []
    },
    {
      "cell_type": "code",
      "metadata": {
        "id": "2S1paT-cP179"
      },
      "source": [
        "def exchanges(moneda,cantidad):\n",
        "    result = 0\n",
        "    # Moneda Salvadoreña\n",
        "    if moneda == 1:\n",
        "        result = cantidad * 8.75\n",
        "        print(f'Los {cantidad} pesos salvadoreños equivalen a {result} dolares')\n",
        "    # Moneda colombiana\n",
        "    elif moneda == 2:\n",
        "        result = cantidad * 0.00027\n",
        "        print(f'Los {cantidad} pesos colombianos equivalen a {result} dolares')\n",
        "    # Moneda Argentina\n",
        "    elif moneda == 3:\n",
        "        result = cantidad * 0.014\n",
        "        print(f'Los {cantidad} pesos argentinos equivalen a {result} dolares')\n",
        "    # Moneda mexicana\n",
        "    elif moneda == 4:\n",
        "        result = cantidad * 0.044\n",
        "        print(f'Los {cantidad} pesos mexicanos equivalen a {result} dolares')\n",
        "    # Otro\n",
        "    else:\n",
        "        print('Ingresa solo un numero de la lista')\n",
        "\n",
        "\n",
        "if __name__ == '__main__':\n",
        "    try:\n",
        "        moneda = int(input('''\n",
        "        Ingresa el indice de la moneda que quieres convertira  dolar:\n",
        "            [1] Moneda salvadoreña a Dolar\n",
        "            [2] Moneda colombiana a Dolar\n",
        "            [3] Moneda argentida a Dolar\n",
        "            [4] Moneda mexicana a Dolar\n",
        "        Selecciona: '''))\n",
        "        print('********************************')\n",
        "        cantidad = int(input('Ingresa la cantidad que quieres convertir: '))\n",
        "        exchanges(moneda,cantidad)\n",
        "    except:\n",
        "        print('* * * * * * E R R O R * * * * * *')\n",
        "        print('Por favor, Ingresa solo valores numericos')"
      ],
      "execution_count": null,
      "outputs": []
    },
    {
      "cell_type": "markdown",
      "metadata": {
        "id": "aNFXDHDPPyK2"
      },
      "source": [
        ""
      ]
    },
    {
      "cell_type": "markdown",
      "metadata": {
        "id": "T9_vUjQLPymV"
      },
      "source": [
        "#Conversor de Moneda"
      ]
    },
    {
      "cell_type": "code",
      "metadata": {
        "colab": {
          "base_uri": "https://localhost:8080/"
        },
        "id": "Grv-RWnvB4Hd",
        "outputId": "1f7f57da-d641-4f4a-acd4-4fe0eb26562d"
      },
      "source": [
        "def exchanges(moneda,cantidad):\n",
        "    result = 0\n",
        "    # Moneda Salvadoreña\n",
        "    if moneda == 1:\n",
        "        result = cantidad * 8.75\n",
        "        print(f'Los {cantidad} pesos salvadoreños equivalen a {result} dolares')\n",
        "    # Moneda colombiana\n",
        "    elif moneda == 2:\n",
        "        result = cantidad * 0.00027\n",
        "        print(f'Los {cantidad} pesos colombianos equivalen a {result} dolares')\n",
        "    # Moneda Argentina\n",
        "    elif moneda == 3:\n",
        "        result = cantidad * 0.014\n",
        "        print(f'Los {cantidad} pesos argentinos equivalen a {result} dolares')\n",
        "    # Moneda mexicana\n",
        "    elif moneda == 4:\n",
        "        result = cantidad * 0.044\n",
        "        print(f'Los {cantidad} pesos mexicanos equivalen a {result} dolares')\n",
        "    # Otro\n",
        "    else:\n",
        "        print('Ingresa solo un numero de la lista')\n",
        "\n",
        "\n",
        "if __name__ == '__main__':\n",
        "    try:\n",
        "        moneda = int(input('''\n",
        "        Ingresa el indice de la moneda que quieres convertira  dolar:\n",
        "            [1] Moneda salvadoreña a Dolar\n",
        "            [2] Moneda colombiana a Dolar\n",
        "            [3] Moneda argentida a Dolar\n",
        "            [4] Moneda mexicana a Dolar\n",
        "        Selecciona: '''))\n",
        "        print('********************************')\n",
        "        cantidad = int(input('Ingresa la cantidad que quieres convertir: '))\n",
        "        exchanges(moneda,cantidad)\n",
        "    except:\n",
        "        print('* * * * * * E R R O R * * * * * *')\n",
        "        print('Por favor, Ingresa solo valores numericos')"
      ],
      "execution_count": null,
      "outputs": [
        {
          "output_type": "stream",
          "text": [
            "\n",
            "        Ingresa el indice de la moneda que quieres convertira  dolar:\n",
            "            [1] Moneda salvadoreña a Dolar\n",
            "            [2] Moneda colombiana a Dolar\n",
            "            [3] Moneda argentida a Dolar\n",
            "            [4] Moneda mexicana a Dolar\n",
            "        Selecciona: 1\n",
            "********************************\n",
            "Ingresa la cantidad que quieres convertir: 1\n",
            "Los 1 pesos salvadoreños equivalen a 8.75 dolares\n"
          ],
          "name": "stdout"
        }
      ]
    },
    {
      "cell_type": "code",
      "metadata": {
        "id": "yzG2CvluB3Vd"
      },
      "source": [
        ""
      ],
      "execution_count": null,
      "outputs": []
    },
    {
      "cell_type": "markdown",
      "metadata": {
        "id": "pDPEe0cFQmrP"
      },
      "source": [
        "Realizar un conversor propio, donde espesifique el valor de conversión: (10%)\n",
        "•1 caja -> 25 unidad. Viceversa 80 unidades – 3/5 -> cajas/unidades•1 saco -> 50 libras. Viceversa 130 libras – 2/30 -> sacos/libras•1 fardo -> 5 unidades. Viceversa 28 unidades – 5/3 -> fardos/unidades"
      ]
    },
    {
      "cell_type": "markdown",
      "metadata": {
        "id": "bGUuGxTnVfmv"
      },
      "source": [
        "\n",
        "# CONVERSION SACO A LIBRAS"
      ]
    },
    {
      "cell_type": "code",
      "metadata": {
        "colab": {
          "base_uri": "https://localhost:8080/"
        },
        "id": "BMFvIQC0QqS3",
        "outputId": "0a8ac185-3a2d-47ef-e44d-1c8d2587dbe2"
      },
      "source": [
        "\n",
        "def exchanges(saco,cantidad):\n",
        "    result = 0\n",
        "    # Saco a Libras\n",
        "    if saco == 1:\n",
        "        result = cantidad * 50\n",
        "        print(f'El {cantidad} saco equivalen a {result} libras')\n",
        "    # \n",
        "    elif saco == 2:\n",
        "        result = cantidad / 50\n",
        "        print(f'Las {cantidad} libras equivalen a {result} saco')\n",
        "  \n",
        "    else:\n",
        "        print('Ingresa solo un numero de la lista')\n",
        "\n",
        "\n",
        "if __name__ == '__main__':\n",
        "    try:\n",
        "        saco = int(input('''\n",
        "        Ingresa el indice de el equivalente a saco:\n",
        "            [1] Saco a Libras\n",
        "            [2] Libras a Saco\n",
        "         \n",
        "        Selecciona: '''))\n",
        "        print('********************************')\n",
        "        cantidad = int(input('Ingresa la cantidad que quieres convertir: '))\n",
        "        exchanges(saco,cantidad)\n",
        "    except:\n",
        "        print('* * * * * * E R R O R * * * * * *')\n",
        "        print('Por favor, Ingresa solo valores numericos')\n",
        "\n",
        "\n",
        "\n"
      ],
      "execution_count": null,
      "outputs": [
        {
          "output_type": "stream",
          "text": [
            "\n",
            "        Ingresa el indice de el equivalente a saco:\n",
            "            [1] Saco a Libras\n",
            "            [2] Libras a Saco\n",
            "         \n",
            "        Selecciona: 1\n",
            "********************************\n",
            "Ingresa la cantidad que quieres convertir: 5\n",
            "El 5 saco equivalen a 250 libras\n"
          ],
          "name": "stdout"
        }
      ]
    },
    {
      "cell_type": "markdown",
      "metadata": {
        "id": "Tepz4QO4VmO9"
      },
      "source": [
        "# CONVERSION FARDO A UNIDADES"
      ]
    },
    {
      "cell_type": "code",
      "metadata": {
        "colab": {
          "base_uri": "https://localhost:8080/"
        },
        "id": "vu-Qn6ucVZdh",
        "outputId": "fc8aef81-931b-43c2-cb3e-fffb43712415"
      },
      "source": [
        "def exchanges(fardo,cantidad):\n",
        "    result = 0\n",
        "    # Fardo a Unidades\n",
        "    if fardo == 1:\n",
        "        result = cantidad * 25\n",
        "        print(f'El {cantidad} fardo equivalen a {result} unidades')\n",
        "    # \n",
        "    elif fardo == 2:\n",
        "        result = cantidad / 25\n",
        "        print(f'Las {cantidad} unidades equivalen a {result} fardo/s')\n",
        "  \n",
        "    else:\n",
        "        print('Ingresa solo un numero de la lista')\n",
        "\n",
        "\n",
        "if __name__ == '__main__':\n",
        "    try:\n",
        "        fardo = int(input('''\n",
        "        Ingresa el indice de el equivalente a fardo/unidades:\n",
        "            [1] Fardo a Unidades\n",
        "            [2] Unidades a Fardo\n",
        "         \n",
        "        Selecciona: '''))\n",
        "        print('********************************')\n",
        "        cantidad = int(input('Ingresa la cantidad que quieres convertir: '))\n",
        "        exchanges(fardo,cantidad)\n",
        "    except:\n",
        "        print('* * * * * * E R R O R * * * * * *')\n",
        "        print('Por favor, Ingresa solo valores numericos')\n"
      ],
      "execution_count": null,
      "outputs": [
        {
          "output_type": "stream",
          "text": [
            "\n",
            "        Ingresa el indice de el equivalente a fardo/unidades:\n",
            "            [1] Fardo a Unidades\n",
            "            [2] Unidades a Fardo\n",
            "         \n",
            "        Selecciona: 1\n",
            "********************************\n",
            "Ingresa la cantidad que quieres convertir: 2.5\n",
            "* * * * * * E R R O R * * * * * *\n",
            "Por favor, Ingresa solo valores numericos\n"
          ],
          "name": "stdout"
        }
      ]
    },
    {
      "cell_type": "markdown",
      "metadata": {
        "id": "EOPwFQeDTOhf"
      },
      "source": [
        "#CONVERSION CAJAS A UNIDADES"
      ]
    },
    {
      "cell_type": "code",
      "metadata": {
        "colab": {
          "base_uri": "https://localhost:8080/"
        },
        "id": "OVHQb9tqqT75",
        "outputId": "58ac55b3-d3a9-46a9-91d6-b95c4e8cd932"
      },
      "source": [
        "def exchanges(caja,cantidad):\n",
        "    result = 0\n",
        "    # Caja a Unidades\n",
        "    if caja == 1:\n",
        "        result = cantidad * 25\n",
        "        print(f'La {cantidad} caja equivalen a {result} unidades')\n",
        "    # \n",
        "    elif caja == 2:\n",
        "        result = cantidad /25 \n",
        "        print(f'Las {cantidad} unidades equivalen a {result} cajas')\n",
        "  \n",
        "    else:\n",
        "        print('Ingresa solo un numero de la lista')\n",
        "\n",
        "\n",
        "if __name__ == '__main__':\n",
        "    try:\n",
        "        caja = int(input('''\n",
        "        Ingresa el indice de lo que quiere convertir:\n",
        "            [1] Caja a Unidades\n",
        "            [2] Unidades a Cajas\n",
        "         \n",
        "        Selecciona: '''))\n",
        "        print('********************************')\n",
        "        cantidad = int(input('Ingresa la cantidad que quieres convertir: '))\n",
        "        exchanges(caja,cantidad)\n",
        "    except:\n",
        "        print('* * * * * * E R R O R * * * * * *')\n",
        "        print('Por favor, Ingresa solo valores numericos')\n"
      ],
      "execution_count": 1,
      "outputs": [
        {
          "output_type": "stream",
          "name": "stdout",
          "text": [
            "\n",
            "        Ingresa el indice de lo que quiere convertir:\n",
            "            [1] Caja a Unidades\n",
            "            [2] Unidades a Cajas\n",
            "         \n",
            "        Selecciona: 1\n",
            "********************************\n",
            "Ingresa la cantidad que quieres convertir: 5\n",
            "La 5 caja equivalen a 125 unidades\n"
          ]
        }
      ]
    }
  ]
}