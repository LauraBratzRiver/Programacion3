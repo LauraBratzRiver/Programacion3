{
  "nbformat": 4,
  "nbformat_minor": 0,
  "metadata": {
    "colab": {
      "name": "Actividad_2_Lambda.ipynb",
      "provenance": [],
      "collapsed_sections": [],
      "authorship_tag": "ABX9TyNmxvMeWj+qGp36PdwMBDS7",
      "include_colab_link": true
    },
    "kernelspec": {
      "name": "python3",
      "display_name": "Python 3"
    },
    "language_info": {
      "name": "python"
    }
  },
  "cells": [
    {
      "cell_type": "markdown",
      "metadata": {
        "id": "view-in-github",
        "colab_type": "text"
      },
      "source": [
        "<a href=\"https://colab.research.google.com/github/LauraRivera01/Programacion3/blob/main/Actividad_2_Lambda.ipynb\" target=\"_parent\"><img src=\"https://colab.research.google.com/assets/colab-badge.svg\" alt=\"Open In Colab\"/></a>"
      ]
    },
    {
      "cell_type": "code",
      "metadata": {
        "colab": {
          "base_uri": "https://localhost:8080/"
        },
        "id": "as29qsQWusHQ",
        "outputId": "9a5b5533-b4a2-4e99-ce9a-f3e4bb6ccf6d"
      },
      "source": [
        "#Convertir de Celsius a Farenheit con LAMBDA\n",
        "conversion = lambda c:(c*9/5)+32\n",
        "c = float(input(\"Celsius: \"))\n",
        "print(\"Grados C: \", c, \" a F: \", conversion(c))"
      ],
      "execution_count": 2,
      "outputs": [
        {
          "output_type": "stream",
          "text": [
            "Celsius: 36.5\n",
            "Grados C:  36.5  a F:  97.7\n"
          ],
          "name": "stdout"
        }
      ]
    },
    {
      "cell_type": "code",
      "metadata": {
        "colab": {
          "base_uri": "https://localhost:8080/"
        },
        "id": "nSKzg3DRwRuK",
        "outputId": "45e99576-ae28-4d21-fec5-aaca9cfff432"
      },
      "source": [
        "#Obtener la nota final de ciclo usando lambda\n",
        "nota = lambda n:n/3 \n",
        "print (\"Escribe las notas del Semestre\")\n",
        "n1 = float(input(\"Ingrese las notas de Computo 1:\"))\n",
        "n2 = float(input(\"Ingrese las notas de Computo as de Computo 2:\"))\n",
        "n3= float(input(\"Ingrese las notas de Computo as de Computo 3:\")) \n",
        "print(\"Tu Nota Final es:\", nota(n1+n2+n3))\n"
      ],
      "execution_count": 38,
      "outputs": [
        {
          "output_type": "stream",
          "text": [
            "Escribe las notas del Semestre\n",
            "Ingrese las notas de Computo 1:5.5\n",
            "Ingrese las notas de Computo as de Computo 2:6.2\n",
            "Ingrese las notas de Computo as de Computo 3:10\n",
            "Tu Nota Final es: 7.233333333333333\n"
          ],
          "name": "stdout"
        }
      ]
    },
    {
      "cell_type": "code",
      "metadata": {
        "colab": {
          "base_uri": "https://localhost:8080/"
        },
        "id": "PHqkzvgP_5_Z",
        "outputId": "d018071c-0a94-48b4-a380-244c02261b35"
      },
      "source": [
        "#Fecha\n",
        "edad = lambda n:A1-A2\n",
        "A1 = int (input (\"Ingresa el año actual: \"))\n",
        "A2 = int (input (\"Ingresa el año de tu nacimiento: \"))\n",
        "print(\"Tu edad actual es:\", edad(A1-A2))\n"
      ],
      "execution_count": 70,
      "outputs": [
        {
          "output_type": "stream",
          "text": [
            "Ingresa el año actual: 2021\n",
            "Ingresa el año de tu nacimiento: 1990\n",
            "Tu edad actual es: 31\n"
          ],
          "name": "stdout"
        }
      ]
    }
  ]
}