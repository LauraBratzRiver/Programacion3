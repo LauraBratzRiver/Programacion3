{
  "nbformat": 4,
  "nbformat_minor": 0,
  "metadata": {
    "colab": {
      "name": "Semana7A9.ipynb",
      "provenance": [],
      "authorship_tag": "ABX9TyMPNl2qEReuyKhH81xJAA3r",
      "include_colab_link": true
    },
    "kernelspec": {
      "name": "python3",
      "display_name": "Python 3"
    },
    "language_info": {
      "name": "python"
    }
  },
  "cells": [
    {
      "cell_type": "markdown",
      "metadata": {
        "id": "view-in-github",
        "colab_type": "text"
      },
      "source": [
        "<a href=\"https://colab.research.google.com/github/LauraRivera01/Programacion3/blob/main/Semana7A9.ipynb\" target=\"_parent\"><img src=\"https://colab.research.google.com/assets/colab-badge.svg\" alt=\"Open In Colab\"/></a>"
      ]
    },
    {
      "cell_type": "code",
      "metadata": {
        "id": "V3Xx6giUQMP7"
      },
      "source": [
        "import pandas as pd\n",
        "import matplotlib.pyplot as plt\n"
      ],
      "execution_count": 4,
      "outputs": []
    },
    {
      "cell_type": "code",
      "metadata": {
        "colab": {
          "base_uri": "https://localhost:8080/"
        },
        "id": "PAnMrUp1Qa6G",
        "outputId": "f4458ea8-be71-4dd1-8faf-e9f8c13d67db"
      },
      "source": [
        "lenguajesProgra = pd.Series([\"VB\",\"Java\",\"Python\", \"HTML\", \"CSS\", \"JS\", \"C#\",\"PHP\", \"XML\"]\n",
        "                          , index = [1,2,3,4,4,4,5,4,6])\n",
        "print(lenguajesProgra, lenguajesProgra[4])"
      ],
      "execution_count": 5,
      "outputs": [
        {
          "output_type": "stream",
          "name": "stdout",
          "text": [
            "1        VB\n",
            "2      Java\n",
            "3    Python\n",
            "4      HTML\n",
            "4       CSS\n",
            "4        JS\n",
            "5        C#\n",
            "4       PHP\n",
            "6       XML\n",
            "dtype: object 4    HTML\n",
            "4     CSS\n",
            "4      JS\n",
            "4     PHP\n",
            "dtype: object\n"
          ]
        }
      ]
    },
    {
      "cell_type": "code",
      "metadata": {
        "colab": {
          "base_uri": "https://localhost:8080/"
        },
        "id": "mwaNjH7GY9Oe",
        "outputId": "4418317b-96c2-4d5f-9488-fe6009a1f3e9"
      },
      "source": [
        "lenguajesProgra = pd.Series([\"VB\",\"Java\",\"Python\", \"HTML\", \"CSS\", \"JS\", \"C#\",\"PHP\", \"XML\"]\n",
        "                          , index = [1,2,3,4,4,4,5,4,6])\n",
        "misLenguajes ={\n",
        "    1:\"VB\",\n",
        "    2:\"Java\",\n",
        "    3:\"Python\", \n",
        "    4:\"HTML\", \n",
        "    5:\"CSS\", \n",
        "    6:\"JS\", \n",
        "    7:\"C#\",\n",
        "    8:\"PHP\", \n",
        "    9:\"XML\"\n",
        "    \n",
        "}\n",
        "diccionarioLenguajes = pd.Series(misLenguajes)\n",
        "print(diccionarioLenguajes, diccionarioLenguajes[1])"
      ],
      "execution_count": 7,
      "outputs": [
        {
          "output_type": "stream",
          "name": "stdout",
          "text": [
            "1        VB\n",
            "2      Java\n",
            "3    Python\n",
            "4      HTML\n",
            "5       CSS\n",
            "6        JS\n",
            "7        C#\n",
            "8       PHP\n",
            "9       XML\n",
            "dtype: object VB\n"
          ]
        }
      ]
    },
    {
      "cell_type": "code",
      "metadata": {
        "colab": {
          "base_uri": "https://localhost:8080/",
          "height": 473
        },
        "id": "bAmteqCivx4d",
        "outputId": "56fa72ec-921a-45b9-ffde-025e519e67dc"
      },
      "source": [
        "archivo = pd.read_csv(\"/notas.csv\",sep=\",\",encoding=\"utf-8\")\n",
        "#print(archivo, archivo[\"notas\"])\n",
        "\n",
        "procesar = pd.crosstab(index=archivo[\"notas\"],columns=\"cant_veces_repite\")\n",
        "#print(procesar)\n",
        "\n",
        "agrupando = archivo.groupby([\"notas\"]).agg({lambda x:x+\",\"})\n",
        "print(agrupando)\n",
        "\n",
        "plt.pie(procesar, labels=procesar.index)\n",
        "plt.xlabel(\"Notas por estudiante\")\n",
        "plt.show()\n",
        "\n"
      ],
      "execution_count": 37,
      "outputs": [
        {
          "output_type": "stream",
          "name": "stdout",
          "text": [
            "                                                 alumnos\n",
            "                                                <lambda>\n",
            "notas                                                   \n",
            "1                                        Manuel Ramirez,\n",
            "2                        [Juan Perez,, Karla Hernandez,]\n",
            "3                                          Jose  Chavez,\n",
            "4                                          Laura Rivera,\n",
            "6                                         Daniel Zelaya,\n",
            "9      [Luis Hernandez,, Mauricio Espinoza,, Alejandr...\n"
          ]
        },
        {
          "output_type": "stream",
          "name": "stderr",
          "text": [
            "/usr/local/lib/python3.7/dist-packages/ipykernel_launcher.py:10: MatplotlibDeprecationWarning: Non-1D inputs to pie() are currently squeeze()d, but this behavior is deprecated since 3.1 and will be removed in 3.3; pass a 1D array instead.\n",
            "  # Remove the CWD from sys.path while we load stuff.\n"
          ]
        },
        {
          "output_type": "display_data",
          "data": {
            "image/png": "[encoded data removed]",
            "text/plain": [
              "<Figure size 432x288 with 1 Axes>"
            ]
          },
          "metadata": {}
        }
      ]
    },
    {
      "cell_type": "code",
      "metadata": {
        "colab": {
          "base_uri": "https://localhost:8080/"
        },
        "id": "h0A4rA9WE7Yb",
        "outputId": "65166b2c-d66d-48b3-ca1c-d4c40d3d7cb2"
      },
      "source": [
        "archivo = pd.read_csv(\"/notas.csv\",sep=\",\",encoding=\"utf-8\")\n",
        "print(archivo, archivo[\"notas\"])\n"
      ],
      "execution_count": 36,
      "outputs": [
        {
          "output_type": "stream",
          "name": "stdout",
          "text": [
            "              alumnos  notas\n",
            "0        Laura Rivera      4\n",
            "1      Luis Hernandez      9\n",
            "2   Mauricio Espinoza      9\n",
            "3        Jose  Chavez      3\n",
            "4          Juan Perez      2\n",
            "5     Alejandro Vigil      9\n",
            "6        Mario Claros      9\n",
            "7    Mauricio Vasquez      9\n",
            "8        Josue Flores      9\n",
            "9     Karla Hernandez      2\n",
            "10     Manuel Ramirez      1\n",
            "11      Daniel Zelaya      6 0     4\n",
            "1     9\n",
            "2     9\n",
            "3     3\n",
            "4     2\n",
            "5     9\n",
            "6     9\n",
            "7     9\n",
            "8     9\n",
            "9     2\n",
            "10    1\n",
            "11    6\n",
            "Name: notas, dtype: int64\n"
          ]
        }
      ]
    },
    {
      "cell_type": "code",
      "metadata": {
        "id": "oosnA_qIZCRk"
      },
      "source": [
        "archivo = pd.read_csv(\"/notas.csv\",sep=\",\",encoding=\"utf-8\")\n",
        "#print(archivo, archivo[\"notas\"])\n",
        "\n",
        "procesar = pd.crosstab(index=archivo[\"notas\"],columns=\"cant_veces_repite\")\n",
        "#print(procesar)\n",
        "\n",
        "agrupando = archivo.groupby([\"notas\"]).agg({lambda x:x+\",\"})\n",
        "print(agrupando)\n",
        "\n",
        "plt.pie(procesar, labels=procesar.index)\n",
        "plt.xlabel(\"Notas por estudiante\")\n",
        "plt.show()\n"
      ],
      "execution_count": null,
      "outputs": []
    },
    {
      "cell_type": "code",
      "metadata": {
        "colab": {
          "base_uri": "https://localhost:8080/"
        },
        "id": "2I8onrCAOQ-O",
        "outputId": "041ac974-6b0e-42ce-bbb9-4cd0e0449caf"
      },
      "source": [
        "usuarios = pd.read_csv(\"/content/usuarios.csv\", sep=\",\", encoding=\"latin-1\")\n",
        "#print(usuarios)\n",
        "\n",
        "peliculas = pd.read_csv(\"/content/peliculas.csv\", sep=\",\", encoding=\"latin-1\")\n",
        "print(peliculas)\n",
        "\n",
        "usuariosPeliculas = pd.read_csv(\"/content/usuariosPeliculas.csv\", sep=\",\")\n",
        "#print(usuariosPeliculas)\n",
        "\n",
        "unionUsuarioPelicula =pd.merge( pd.merge(usuarios, usuariosPeliculas), peliculas, on=\"idPelicula\")\n",
        "print(unionUsuarioPelicula)\n",
        "print(unionUsuarioPelicula[\"nombre\"], unionUsuarioPelicula[\"Titulo\"], unionUsuarioPelicula[\"aceptacion\"])\n"
      ],
      "execution_count": 68,
      "outputs": [
        {
          "output_type": "stream",
          "name": "stdout",
          "text": [
            "   idPelicula               Titulo  Duracion    Genero Clasificacion\n",
            "0           1             END GAME       162    Accion             C\n",
            "1           2          Tom y Jerry       153   comedia             A\n",
            "2           3            Chang Shi       150   ficcion             C\n",
            "3           4             La monja       150    terror             D\n",
            "4           5  Dora la Exploradora       163  aventura             A\n",
            "5           6      Winnie the Pooh        90  infantil             A\n",
            "   idUsuario             nombre genero  ... Duracion    Genero Clasificacion\n",
            "0          1       Laura Rivera      F  ...      153   comedia             A\n",
            "1          1       Laura Rivera      F  ...      163  aventura             A\n",
            "2          5         Juan Perez      M  ...      163  aventura             A\n",
            "3          2     Luis Hernandez      M  ...      162    Accion             C\n",
            "4          3  Mauricio Espinoza      M  ...      150   ficcion             C\n",
            "5          4       Jose  Chavez      M  ...      150    terror             D\n",
            "\n",
            "[6 rows x 14 columns]\n",
            "0         Laura Rivera\n",
            "1         Laura Rivera\n",
            "2           Juan Perez\n",
            "3       Luis Hernandez\n",
            "4    Mauricio Espinoza\n",
            "5         Jose  Chavez\n",
            "Name: nombre, dtype: object 0            Tom y Jerry\n",
            "1    Dora la Exploradora\n",
            "2    Dora la Exploradora\n",
            "3               END GAME\n",
            "4              Chang Shi\n",
            "5               La monja\n",
            "Name: Titulo, dtype: object 0    4\n",
            "1    4\n",
            "2    5\n",
            "3    5\n",
            "4    2\n",
            "5    1\n",
            "Name: aceptacion, dtype: int64\n"
          ]
        }
      ]
    },
    {
      "cell_type": "markdown",
      "metadata": {
        "id": "zTU5pOZKelfL"
      },
      "source": [
        "USO DE TENSOFLOW\n"
      ]
    },
    {
      "cell_type": "code",
      "metadata": {
        "colab": {
          "base_uri": "https://localhost:8080/"
        },
        "id": "hoiO9J_kTrKM",
        "outputId": "9a924560-4a6a-4fb5-e94e-b9461a88fd5a"
      },
      "source": [
        "import tensorflow as tf\n",
        "resp = tf.add(3,8).numpy()\n",
        "print(resp)"
      ],
      "execution_count": 69,
      "outputs": [
        {
          "output_type": "stream",
          "name": "stdout",
          "text": [
            "11\n"
          ]
        }
      ]
    },
    {
      "cell_type": "code",
      "metadata": {
        "id": "KGbV5DuIewew"
      },
      "source": [
        "#importacion de librerias a utilizar\n",
        "import tensorflow as tf\n",
        "import pandas as pd\n",
        "import matplotlib.pyplot as plt\n",
        "import seaborn as sns"
      ],
      "execution_count": 70,
      "outputs": []
    },
    {
      "cell_type": "code",
      "metadata": {
        "id": "OIIw1mKMe19h"
      },
      "source": [
        ""
      ],
      "execution_count": null,
      "outputs": []
    }
  ]
}