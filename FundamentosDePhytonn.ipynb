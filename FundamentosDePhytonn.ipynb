{
  "nbformat": 4,
  "nbformat_minor": 0,
  "metadata": {
    "colab": {
      "name": "FundamentosDePhytonn.ipynb",
      "provenance": [],
      "collapsed_sections": [],
      "authorship_tag": "ABX9TyMqyW55ckqSuO+ydX4y3RDt",
      "include_colab_link": true
    },
    "kernelspec": {
      "name": "python3",
      "display_name": "Python 3"
    },
    "language_info": {
      "name": "python"
    }
  },
  "cells": [
    {
      "cell_type": "markdown",
      "metadata": {
        "id": "view-in-github",
        "colab_type": "text"
      },
      "source": [
        "<a href=\"https://colab.research.google.com/github/LauraRivera01/Programacion3/blob/main/FundamentosDePhytonn.ipynb\" target=\"_parent\"><img src=\"https://colab.research.google.com/assets/colab-badge.svg\" alt=\"Open In Colab\"/></a>"
      ]
    },
    {
      "cell_type": "code",
      "metadata": {
        "colab": {
          "base_uri": "https://localhost:8080/"
        },
        "id": "orDLDgQgSjI9",
        "outputId": "94b8e5b9-34fc-43f0-e477-6f0d42660a4a"
      },
      "source": [
        "#Variable de tipo cadena\n",
        "name= \"Laura Rivera\"\n",
        "print(\"Hola, mi nombre es \"+ name)\n",
        "\n",
        "print( name[-2], str(name))\n"
      ],
      "execution_count": 6,
      "outputs": [
        {
          "output_type": "stream",
          "text": [
            "Hola, mi nombre es Laura Rivera\n",
            "r Laura Rivera\n"
          ],
          "name": "stdout"
        }
      ]
    },
    {
      "cell_type": "code",
      "metadata": {
        "id": "dn-wRW-zUa7h"
      },
      "source": [
        "\n",
        "#num1 = input(\"Dime un numero:\")\n",
        "#num2 = input(\"Dime otro numero:\")\n",
        "#resp = float(num1) + float(num2)\n",
        "#print(resp)\n",
        "\n",
        "#10 NO, #15"
      ],
      "execution_count": null,
      "outputs": []
    },
    {
      "cell_type": "code",
      "metadata": {
        "colab": {
          "base_uri": "https://localhost:8080/"
        },
        "id": "VY6cC7BkUmik",
        "outputId": "0dce79a6-3580-4225-883a-18efa4aa273a"
      },
      "source": [
        "teGustaPython = True\n",
        "print(\"Te gusta Python: \"+ str(teGustaPython), type(teGustaPython))"
      ],
      "execution_count": 12,
      "outputs": [
        {
          "output_type": "stream",
          "text": [
            "Te gusta Python: True <class 'bool'>\n"
          ],
          "name": "stdout"
        }
      ]
    },
    {
      "cell_type": "code",
      "metadata": {
        "colab": {
          "base_uri": "https://localhost:8080/"
        },
        "id": "XzCmGzq1VT89",
        "outputId": "713cfa9b-0bd8-4274-ccde-758428a79c62"
      },
      "source": [
        "#Calcular la edad de una persona\n",
        "year = input(\"En que año naciste: \")\n",
        "yearActual = 2021\n",
        "\n",
        "def calcularEdad(year, yearActual):\n",
        "  edad = yearActual - year\n",
        "  return edad\n",
        "  print(\"Tu edad es: \" + str(calcularEdad(int(year), yearActual)))"
      ],
      "execution_count": 15,
      "outputs": [
        {
          "output_type": "stream",
          "text": [
            "En que año naciste: 1990\n"
          ],
          "name": "stdout"
        }
      ]
    }
  ]
}