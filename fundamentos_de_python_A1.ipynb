{
  "nbformat": 4,
  "nbformat_minor": 0,
  "metadata": {
    "colab": {
      "name": "fundamentos_de_python_A1.ipynb",
      "provenance": [],
      "collapsed_sections": [],
      "authorship_tag": "ABX9TyO/z3cwcPJBmrUZQMPUmz22",
      "include_colab_link": true
    },
    "kernelspec": {
      "name": "python3",
      "display_name": "Python 3"
    },
    "language_info": {
      "name": "python"
    }
  },
  "cells": [
    {
      "cell_type": "markdown",
      "metadata": {
        "id": "view-in-github",
        "colab_type": "text"
      },
      "source": [
        "<a href=\"https://colab.research.google.com/github/LauraRivera01/Programacion3/blob/main/fundamentos_de_python_A1.ipynb\" target=\"_parent\"><img src=\"https://colab.research.google.com/assets/colab-badge.svg\" alt=\"Open In Colab\"/></a>"
      ]
    },
    {
      "cell_type": "code",
      "metadata": {
        "colab": {
          "base_uri": "https://localhost:8080/"
        },
        "id": "BRyekU_6adYP",
        "outputId": "083c3a4d-2771-40c8-aa78-a1c6c089875b"
      },
      "source": [
        "print(\"Hola mundo\", \"Bienvenidos a Progra III con Phyton\", \"Hola chicos, que tal!!\")"
      ],
      "execution_count": null,
      "outputs": [
        {
          "output_type": "stream",
          "text": [
            "Hola mundo Bienvenidos a Progra III con Phyton Hola chicos, que tal!!\n"
          ],
          "name": "stdout"
        }
      ]
    },
    {
      "cell_type": "code",
      "metadata": {
        "colab": {
          "base_uri": "https://localhost:8080/"
        },
        "id": "95n84PLKbD9o",
        "outputId": "22a9afbe-58af-4991-e34c-773d8073457a"
      },
      "source": [
        "saludo = \"hola\"\n",
        "print(saludo + \"Mundo\")\n",
        "print (saludo[1])"
      ],
      "execution_count": null,
      "outputs": [
        {
          "output_type": "stream",
          "text": [
            "holaMundo\n",
            "o\n"
          ],
          "name": "stdout"
        }
      ]
    },
    {
      "cell_type": "code",
      "metadata": {
        "colab": {
          "base_uri": "https://localhost:8080/"
        },
        "id": "IdSGFI06bRHc",
        "outputId": "c203d7f4-3c71-41c6-9444-4e2025dd0687"
      },
      "source": [
        "nombre = input(\"Como te llamas?: \")\n",
        "print(\"Hola\"+nombre, \"Tu letra inicial es: \", nombre[0], \"Tu nombre tiene:\" ,nombre.__len__(), \"caracteres\")"
      ],
      "execution_count": null,
      "outputs": [
        {
          "output_type": "stream",
          "text": [
            "Como te llamas?: laura\n",
            "Holalaura Tu letra inicial es:  l Tu nombre tiene: 5 caracteres\n"
          ],
          "name": "stdout"
        }
      ]
    },
    {
      "cell_type": "code",
      "metadata": {
        "colab": {
          "base_uri": "https://localhost:8080/"
        },
        "id": "9KbLf7W2dT6q",
        "outputId": "54c5467a-fe2c-4df8-822f-c7ebd3daecf4"
      },
      "source": [
        "num1 = 5\n",
        "num2 = 5.5\n",
        "resp = num1 + num2\n",
        "print(\"La suma es:\" , resp)\n",
        "#Definir la suma entre dos numeros"
      ],
      "execution_count": null,
      "outputs": [
        {
          "output_type": "stream",
          "text": [
            "La suma es: 10.5\n"
          ],
          "name": "stdout"
        }
      ]
    },
    {
      "cell_type": "code",
      "metadata": {
        "colab": {
          "base_uri": "https://localhost:8080/"
        },
        "id": "Iefrt-_Edq6v",
        "outputId": "eb7c6ed5-12f1-4c5a-f92a-2b42f0a7d952"
      },
      "source": [
        "#Encontrar dos numeros\n",
        "num1 = input(\"Num1: \")\n",
        "num2 = input(\"Num2: \")\n",
        "resp = float(num1) + float(num2) #\"5.5\"-> 5.5\n",
        "print(\"La suma es: \", resp)"
      ],
      "execution_count": null,
      "outputs": [
        {
          "output_type": "stream",
          "text": [
            "Num1: 5\n",
            "Num2: 5.5\n",
            "La suma es:  10.5\n"
          ],
          "name": "stdout"
        }
      ]
    },
    {
      "cell_type": "code",
      "metadata": {
        "colab": {
          "base_uri": "https://localhost:8080/"
        },
        "id": "xICRA1ezeYm3",
        "outputId": "f59cb08a-1276-418a-ac5e-bf045e0e3b2a"
      },
      "source": [
        "num1 = input(\"Num1: \")\n",
        "num1 = float(num1)\n",
        "num2 = float(input(\"Num2: \"))\n",
        "resp = num1 + num2 #\"5.5\" -> 5.5\n",
        "print(\"La suma es: \", resp, num1 + num2 )"
      ],
      "execution_count": null,
      "outputs": [
        {
          "output_type": "stream",
          "text": [
            "Num1: 5.4\n",
            "Num2: 6.8\n",
            "La suma es:  12.2 12.2\n"
          ],
          "name": "stdout"
        }
      ]
    },
    {
      "cell_type": "code",
      "metadata": {
        "colab": {
          "base_uri": "https://localhost:8080/"
        },
        "id": "5UL26NVofH-Y",
        "outputId": "6a6626d7-6800-40c8-d02c-70ab16efab1d"
      },
      "source": [
        "print(\"Hola nuevamente\", nombre )"
      ],
      "execution_count": null,
      "outputs": [
        {
          "output_type": "stream",
          "text": [
            "Hola nuevamente laura\n"
          ],
          "name": "stdout"
        }
      ]
    },
    {
      "cell_type": "code",
      "metadata": {
        "colab": {
          "base_uri": "https://localhost:8080/"
        },
        "id": "5xaEDYB9fPpt",
        "outputId": "bf010c57-768d-4e6c-b4f2-6df0db41bdba"
      },
      "source": [
        "gustaPython = True\n",
        "print(\"hola \", nombre, \"te gusta python\",  gustaPython)"
      ],
      "execution_count": null,
      "outputs": [
        {
          "output_type": "stream",
          "text": [
            "hola  laura te gusta python True\n"
          ],
          "name": "stdout"
        }
      ]
    },
    {
      "cell_type": "code",
      "metadata": {
        "colab": {
          "base_uri": "https://localhost:8080/"
        },
        "id": "vtjjhL6Qfhhp",
        "outputId": "e7d06373-cdf7-4fda-a81c-240d0d97fa7e"
      },
      "source": [
        "print( \"nombre: \", type(nombre), \"num1: \", type(num1), \"num2: \", type(num2), \"resp: \", type(resp), \"gustaPython: \", type(gustaPython), \"1\", type(1))"
      ],
      "execution_count": null,
      "outputs": [
        {
          "output_type": "stream",
          "text": [
            "nombre:  <class 'str'> num1:  <class 'float'> num2:  <class 'float'> resp:  <class 'float'> gustaPython:  <class 'bool'> 1 <class 'int'>\n"
          ],
          "name": "stdout"
        }
      ]
    },
    {
      "cell_type": "code",
      "metadata": {
        "colab": {
          "base_uri": "https://localhost:8080/"
        },
        "id": "IF7z50qTg3xn",
        "outputId": "44d41035-8bbc-4cf9-d472-aa8b240ba676"
      },
      "source": [
        "print(\"resp: \"+ str(resp))"
      ],
      "execution_count": null,
      "outputs": [
        {
          "output_type": "stream",
          "text": [
            "resp: 12.2\n"
          ],
          "name": "stdout"
        }
      ]
    },
    {
      "cell_type": "code",
      "metadata": {
        "colab": {
          "base_uri": "https://localhost:8080/"
        },
        "id": "BhSnTZF_hErr",
        "outputId": "ae04ab85-705e-4883-efc6-260e6d8cb0b2"
      },
      "source": [
        "def suma(num1, num2):\n",
        "  resp = num1 + num2\n",
        "  return resp\n",
        "num1 = float(input(\"Num1: \"))\n",
        "num2 = float(input(\"Num2: \"))\n",
        "resp = suma(num1,num2)\n",
        "print(resp)"
      ],
      "execution_count": null,
      "outputs": [
        {
          "output_type": "stream",
          "text": [
            "Num1: 8.4\n",
            "Num2: 9.8\n",
            "18.200000000000003\n"
          ],
          "name": "stdout"
        }
      ]
    },
    {
      "cell_type": "code",
      "metadata": {
        "colab": {
          "base_uri": "https://localhost:8080/"
        },
        "id": "d-VNVFHvh4mq",
        "outputId": "7ae12f20-98ca-41c1-d0f5-b06f7a286a49"
      },
      "source": [
        "num1 = int(input(\"Num1: \")) \n",
        "num2 = int(input(\"Num2: \"))\n",
        "print(\"Los numeros\", str(num1), \",\", str(num2), \"son iguales: \", str(num1==num2) )"
      ],
      "execution_count": null,
      "outputs": [
        {
          "output_type": "stream",
          "text": [
            "Num1: 4\n",
            "Num2: 4\n",
            "Los numeros 4 , 4 son iguales:  True\n"
          ],
          "name": "stdout"
        }
      ]
    },
    {
      "cell_type": "code",
      "metadata": {
        "colab": {
          "base_uri": "https://localhost:8080/"
        },
        "id": "r4_KR12EkVrf",
        "outputId": "0338b109-3e85-4cb0-9b2e-759fc2f55b0a"
      },
      "source": [
        "def convertirFC(f):\n",
        "  c = (f-32)+5/9\n",
        "  return c\n",
        "f = float(input(\"F: \"))\n",
        "print(\"F: \",  str(f), \"a celcius: \", str( convertirFC(f) ))"
      ],
      "execution_count": null,
      "outputs": [
        {
          "output_type": "stream",
          "text": [
            "F: 98\n",
            "F:  98.0 a celcius:  66.55555555555556\n"
          ],
          "name": "stdout"
        }
      ]
    },
    {
      "cell_type": "code",
      "metadata": {
        "colab": {
          "base_uri": "https://localhost:8080/"
        },
        "id": "rvTAlkI0lRts",
        "outputId": "f3be17d2-a8ac-4d64-d4b4-763cdc6a1607"
      },
      "source": [
        "numHrs = int(input(\"Num. de HRS TRABAJADAS: \"))\n",
        "valorHr = float(input(\"Valor por hr: \"))\n",
        "\n",
        "sueldo = numHrs*valorHr*30\n",
        "print(\"Sueldo: \", sueldo)"
      ],
      "execution_count": null,
      "outputs": [
        {
          "output_type": "stream",
          "text": [
            "Num. de HRS TRABAJADAS: 12\n",
            "Valor por hr: 8\n",
            "Sueldo:  2880.0\n"
          ],
          "name": "stdout"
        }
      ]
    },
    {
      "cell_type": "code",
      "metadata": {
        "colab": {
          "base_uri": "https://localhost:8080/"
        },
        "id": "YKppmXVGl89g",
        "outputId": "6f348549-e95e-4284-f692-cad3ada18bb9"
      },
      "source": [
        "def calcularSueldo(numHRs, valorHr):\n",
        "  hrsExtras = 0\n",
        "  if( numHrs>8 ):\n",
        "    hrsExtras = numHrs-8\n",
        "  sueldo = (8*valorHr + hrsExtras*valorHr*2)*30\n",
        "  return sueldo \n",
        "\n",
        "numHrs = int(input(\"Num. hrs trabajadas: \"))\n",
        "valorHr = float(input(\"Valor x hr: \"))\n",
        "print(\"Sueldo: \", str(calcularSueldo(numHrs, valorHr)))"
      ],
      "execution_count": null,
      "outputs": [
        {
          "output_type": "stream",
          "text": [
            "Num. hrs trabajadas: 10\n",
            "Valor x hr: 4.5\n",
            "Sueldo:  1620.0\n"
          ],
          "name": "stdout"
        }
      ]
    },
    {
      "cell_type": "code",
      "metadata": {
        "colab": {
          "base_uri": "https://localhost:8080/"
        },
        "id": "LBEocvtXn7Mq",
        "outputId": "8b765277-f382-4432-87cb-29e712b1ea7f"
      },
      "source": [
        "prioridad = 7- 5*2 - 4/4 *2 #5*2=10 4/4=1 1*2=2 7-10-2=-5\n",
        "print(str(prioridad))"
      ],
      "execution_count": null,
      "outputs": [
        {
          "output_type": "stream",
          "text": [
            "-5.0\n"
          ],
          "name": "stdout"
        }
      ]
    },
    {
      "cell_type": "markdown",
      "metadata": {
        "id": "NhIhxmTFoWJf"
      },
      "source": [
        "Ejercicio de Clase: 1. Convertir de Grados Celsius a Fahrenheit"
      ]
    },
    {
      "cell_type": "code",
      "metadata": {
        "id": "ny5CLnxNoOWb"
      },
      "source": [
        ""
      ],
      "execution_count": null,
      "outputs": []
    },
    {
      "cell_type": "markdown",
      "metadata": {
        "id": "XAQwybgDojZx"
      },
      "source": [
        "Ejercicios de Tarea:\n",
        "1. Convertir de Celsius de Fahrenheit\n",
        "2. Calcular la edad de una persona.\n",
        "3. Obtener la nota final de ciclo\n",
        "\n",
        "Tarea:\n",
        "\n",
        "1. Convertir de Celsius de Fahrenheit usando lambda\n",
        "2. Calcular la edad de una persona. usando lambda\n",
        "2. Obtener la nota final de ciclo usando lambda y build-in(map, filter, reduce)"
      ]
    },
    {
      "cell_type": "code",
      "metadata": {
        "id": "MpTu9n3TozgR",
        "colab": {
          "base_uri": "https://localhost:8080/"
        },
        "outputId": "3a5e9802-dbf4-4fbc-8eb4-89958fc8acb8"
      },
      "source": [
        "suma = lambda num1,num2: num1+num2\n",
        "num1 = float(input(\"Num1: \"))\n",
        "num2 = float(input(\"Num2: \"))\n",
        "print(\"La suma es: \", suma(num1,num2))\n",
        "\n",
        "#Funcion Lambda"
      ],
      "execution_count": 54,
      "outputs": [
        {
          "output_type": "stream",
          "text": [
            "Num1: 12\n",
            "Num2: 10\n",
            "La suma es:  22.0\n"
          ],
          "name": "stdout"
        }
      ]
    },
    {
      "cell_type": "code",
      "metadata": {
        "colab": {
          "base_uri": "https://localhost:8080/"
        },
        "id": "rAD02cMLpyfP",
        "outputId": "7aeb7f57-6c95-43b7-dc51-5e15f4dad21c"
      },
      "source": [
        "conversion = lambda f:(f-32)*5/9\n",
        "f = float(input(\"Fahrenheit: \"))\n",
        "print(\"Grados F: \", f, \"a C:\", conversion(f))\n"
      ],
      "execution_count": 57,
      "outputs": [
        {
          "output_type": "stream",
          "text": [
            "Fahrenheit: 104\n",
            "Grados F:  104.0 a C: 40.0\n"
          ],
          "name": "stdout"
        }
      ]
    },
    {
      "cell_type": "code",
      "metadata": {
        "colab": {
          "base_uri": "https://localhost:8080/"
        },
        "id": "B6GT8WPSzOMe",
        "outputId": "c125be56-a28c-4467-e827-a49d5a499a86"
      },
      "source": [
        "cuadrado = lambda n:n**2\n",
        "n = int(input(\"N: \"))\n",
        "print(\"N: \", n, \"al cuadrado es: \", cuadrado(n))"
      ],
      "execution_count": 58,
      "outputs": [
        {
          "output_type": "stream",
          "text": [
            "N: 3\n",
            "N:  3 al cuadrado es:  9\n"
          ],
          "name": "stdout"
        }
      ]
    },
    {
      "cell_type": "code",
      "metadata": {
        "colab": {
          "base_uri": "https://localhost:8080/"
        },
        "id": "XAvYWV6uzkhB",
        "outputId": "dfb3a70d-44ac-4523-e791-015f0926f5d3"
      },
      "source": [
        "cubo = lambda n:n**3\n",
        "n = int(input(\"n: \"))\n",
        "print(\"N: \", n, \"al cubo es:\" , cubo(n))"
      ],
      "execution_count": 61,
      "outputs": [
        {
          "output_type": "stream",
          "text": [
            "n: 20\n",
            "N:  20 al cubo es: 8000\n"
          ],
          "name": "stdout"
        }
      ]
    },
    {
      "cell_type": "code",
      "metadata": {
        "colab": {
          "base_uri": "https://localhost:8080/"
        },
        "id": "ZKbMSY2o0EKW",
        "outputId": "a5978999-1571-45e6-8c16-70f2ab66e523"
      },
      "source": [
        "exp = lambda n,e:n**e\n",
        "n = int(input(\"N: \"))\n",
        "e = int(input(\"Exponente: \"))\n",
        "print(n, \"elevado al exp : \", e, \" es: \", exp(n,e))"
      ],
      "execution_count": 62,
      "outputs": [
        {
          "output_type": "stream",
          "text": [
            "N: 3\n",
            "Exponente: 4\n",
            "3 elevado al exp :  4  es:  81\n"
          ],
          "name": "stdout"
        }
      ]
    },
    {
      "cell_type": "code",
      "metadata": {
        "colab": {
          "base_uri": "https://localhost:8080/"
        },
        "id": "-Nuk32qq0hrA",
        "outputId": "dff2203e-1998-421c-d871-dd62585c1435"
      },
      "source": [
        "lista = [1,2,3,4]\n",
        "resp = list(map(lambda n:n*2, lista))\n",
        "print(resp)"
      ],
      "execution_count": 63,
      "outputs": [
        {
          "output_type": "stream",
          "text": [
            "[2, 4, 6, 8]\n"
          ],
          "name": "stdout"
        }
      ]
    },
    {
      "cell_type": "code",
      "metadata": {
        "colab": {
          "base_uri": "https://localhost:8080/"
        },
        "id": "BiVu3I3o0vaK",
        "outputId": "e8376562-2baa-4dae-fcb0-af731aa8b8a7"
      },
      "source": [
        "gf_depto = [85,58,105]\n",
        "c_depto = list(map(conversion, gf_depto))\n",
        "print(\"Los grados F: \", gf_depto, \"en celsius es: \", c_depto)"
      ],
      "execution_count": 64,
      "outputs": [
        {
          "output_type": "stream",
          "text": [
            "Los grados F:  [85, 58, 105] en celsius es:  [29.444444444444443, 14.444444444444445, 40.55555555555556]\n"
          ],
          "name": "stdout"
        }
      ]
    },
    {
      "cell_type": "code",
      "metadata": {
        "colab": {
          "base_uri": "https://localhost:8080/"
        },
        "id": "YzU8uFeG1Rb9",
        "outputId": "afd1a3bd-af39-4829-a91a-36c25caab61b"
      },
      "source": [
        "resp = list(map(cuadrado, lista))\n",
        "print(\"La lista \", lista, \"el cuadrado es: \", resp )"
      ],
      "execution_count": 65,
      "outputs": [
        {
          "output_type": "stream",
          "text": [
            "La lista  [1, 2, 3, 4] el cuadrado es:  [1, 4, 9, 16]\n"
          ],
          "name": "stdout"
        }
      ]
    },
    {
      "cell_type": "code",
      "metadata": {
        "colab": {
          "base_uri": "https://localhost:8080/"
        },
        "id": "eutb7cgp1iyR",
        "outputId": "bf87300b-a90a-4b79-ce66-5b0d0af9e8e7"
      },
      "source": [
        "resp = list(map(cubo , lista))\n",
        "print(\"La lista \", lista, \"el cubo es: \", resp )"
      ],
      "execution_count": 66,
      "outputs": [
        {
          "output_type": "stream",
          "text": [
            "La lista  [1, 2, 3, 4] el cubo es:  [1, 8, 27, 64]\n"
          ],
          "name": "stdout"
        }
      ]
    },
    {
      "cell_type": "code",
      "metadata": {
        "colab": {
          "base_uri": "https://localhost:8080/"
        },
        "id": "S1-A3eoS16B1",
        "outputId": "d662c32a-5687-4e07-cee4-40c4592614b7"
      },
      "source": [
        "resp = list(filter(lambda n:n>2, lista))\n",
        "print(\"Los numeros <=2 de la lista \", lista, \"son: \", resp)"
      ],
      "execution_count": 68,
      "outputs": [
        {
          "output_type": "stream",
          "text": [
            "Los numeros <=2 de la lista  [1, 2, 3, 4] son:  [3, 4]\n"
          ],
          "name": "stdout"
        }
      ]
    },
    {
      "cell_type": "code",
      "metadata": {
        "colab": {
          "base_uri": "https://localhost:8080/"
        },
        "id": "iElwUt4n2gwO",
        "outputId": "7b1dc440-4e82-495f-bc17-882faba2562c"
      },
      "source": [
        "resp = list(filter(lambda n:n%2==0, lista))\n",
        "print(\"Los numeros pares de la lista \", lista, \"son: \", resp)"
      ],
      "execution_count": 69,
      "outputs": [
        {
          "output_type": "stream",
          "text": [
            "Los numeros pares de la lista  [1, 2, 3, 4] son:  [2, 4]\n"
          ],
          "name": "stdout"
        }
      ]
    },
    {
      "cell_type": "code",
      "metadata": {
        "colab": {
          "base_uri": "https://localhost:8080/"
        },
        "id": "50nbQv7L3H8L",
        "outputId": "a61e21dd-10cb-4b9c-cd67-b9aade9bea42"
      },
      "source": [
        "resp = list(filter(lambda n:n%2, lista)) #True, False, 1/2 = 0.5->1->True, 2/2=0 -> False \n",
        "print(\"Los numeros impares de la lista \", lista, \"son: \", resp)"
      ],
      "execution_count": 70,
      "outputs": [
        {
          "output_type": "stream",
          "text": [
            "Los numeros impares de la lista  [1, 2, 3, 4] son:  [1, 3]\n"
          ],
          "name": "stdout"
        }
      ]
    },
    {
      "cell_type": "code",
      "metadata": {
        "colab": {
          "base_uri": "https://localhost:8080/"
        },
        "id": "gZeSWW1d3pVp",
        "outputId": "14122641-45e1-4b98-b4ab-31f91144ea43"
      },
      "source": [
        "from functools import reduce\n",
        "resp = reduce(lambda x,y:x+y, lista)\n",
        "print(\"La suma de la lista \", lista, \"es: \", resp, \"la medida es:\", resp/len(lista))"
      ],
      "execution_count": 71,
      "outputs": [
        {
          "output_type": "stream",
          "text": [
            "La suma de la lista  [1, 2, 3, 4] es:  10 la medida es: 2.5\n"
          ],
          "name": "stdout"
        }
      ]
    },
    {
      "cell_type": "code",
      "metadata": {
        "colab": {
          "base_uri": "https://localhost:8080/",
          "height": 268
        },
        "id": "voxVwUZf4LDT",
        "outputId": "f56f935c-936f-4249-890a-20a4385e2f82"
      },
      "source": [
        "tupla = (1,2,5) #una tupla es un conjunto de datos inmutables\n",
        "print( tupla, tupla[0], \"Rango: indice inicial: longitud: \", tupla[1:3], \"; cuantas veces aparece el 2: \",tupla.count(2), \";donde(indice) aparece el 5:\", tupla.index(5)   )\n",
        "print( list(map(conversion, tupla)) )"
      ],
      "execution_count": 11,
      "outputs": [
        {
          "output_type": "stream",
          "text": [
            "(1, 2, 5) 1 Rango: indice inicial: longitud:  (2, 5) ; cuantas veces aparece el 2:  1 ;donde(indice) aparece el 5: 2\n"
          ],
          "name": "stdout"
        },
        {
          "output_type": "error",
          "ename": "NameError",
          "evalue": "ignored",
          "traceback": [
            "\u001b[0;31m---------------------------------------------------------------------------\u001b[0m",
            "\u001b[0;31mNameError\u001b[0m                                 Traceback (most recent call last)",
            "\u001b[0;32m<ipython-input-11-6aff4ae83403>\u001b[0m in \u001b[0;36m<module>\u001b[0;34m()\u001b[0m\n\u001b[1;32m      1\u001b[0m \u001b[0mtupla\u001b[0m \u001b[0;34m=\u001b[0m \u001b[0;34m(\u001b[0m\u001b[0;36m1\u001b[0m\u001b[0;34m,\u001b[0m\u001b[0;36m2\u001b[0m\u001b[0;34m,\u001b[0m\u001b[0;36m5\u001b[0m\u001b[0;34m)\u001b[0m \u001b[0;31m#una tupla es un conjunto de datos inmutables\u001b[0m\u001b[0;34m\u001b[0m\u001b[0;34m\u001b[0m\u001b[0m\n\u001b[1;32m      2\u001b[0m \u001b[0mprint\u001b[0m\u001b[0;34m(\u001b[0m \u001b[0mtupla\u001b[0m\u001b[0;34m,\u001b[0m \u001b[0mtupla\u001b[0m\u001b[0;34m[\u001b[0m\u001b[0;36m0\u001b[0m\u001b[0;34m]\u001b[0m\u001b[0;34m,\u001b[0m \u001b[0;34m\"Rango: indice inicial: longitud: \"\u001b[0m\u001b[0;34m,\u001b[0m \u001b[0mtupla\u001b[0m\u001b[0;34m[\u001b[0m\u001b[0;36m1\u001b[0m\u001b[0;34m:\u001b[0m\u001b[0;36m3\u001b[0m\u001b[0;34m]\u001b[0m\u001b[0;34m,\u001b[0m \u001b[0;34m\"; cuantas veces aparece el 2: \"\u001b[0m\u001b[0;34m,\u001b[0m\u001b[0mtupla\u001b[0m\u001b[0;34m.\u001b[0m\u001b[0mcount\u001b[0m\u001b[0;34m(\u001b[0m\u001b[0;36m2\u001b[0m\u001b[0;34m)\u001b[0m\u001b[0;34m,\u001b[0m \u001b[0;34m\";donde(indice) aparece el 5:\"\u001b[0m\u001b[0;34m,\u001b[0m \u001b[0mtupla\u001b[0m\u001b[0;34m.\u001b[0m\u001b[0mindex\u001b[0m\u001b[0;34m(\u001b[0m\u001b[0;36m5\u001b[0m\u001b[0;34m)\u001b[0m   \u001b[0;34m)\u001b[0m\u001b[0;34m\u001b[0m\u001b[0;34m\u001b[0m\u001b[0m\n\u001b[0;32m----> 3\u001b[0;31m \u001b[0mprint\u001b[0m\u001b[0;34m(\u001b[0m \u001b[0mlist\u001b[0m\u001b[0;34m(\u001b[0m\u001b[0mmap\u001b[0m\u001b[0;34m(\u001b[0m\u001b[0mconversion\u001b[0m\u001b[0;34m,\u001b[0m \u001b[0mtupla\u001b[0m\u001b[0;34m)\u001b[0m\u001b[0;34m)\u001b[0m \u001b[0;34m)\u001b[0m\u001b[0;34m\u001b[0m\u001b[0;34m\u001b[0m\u001b[0m\n\u001b[0m",
            "\u001b[0;31mNameError\u001b[0m: name 'conversion' is not defined"
          ]
        }
      ]
    },
    {
      "cell_type": "code",
      "metadata": {
        "colab": {
          "base_uri": "https://localhost:8080/"
        },
        "id": "zfGqBmPef47C",
        "outputId": "5c1b5c8b-e3a2-4e38-8dc8-2e3d9f7d13ad"
      },
      "source": [
        "persona = (\"USIS032912\", \"Laura Rivera\", \"Usulutan\", \"2624-0329\", \"laurybratzrivera@gmail.com\", 2012, 2.5)\n",
        "print(persona)"
      ],
      "execution_count": 19,
      "outputs": [
        {
          "output_type": "stream",
          "text": [
            "('USIS032912', 'Laura Rivera', 'Usulutan', '2624-0329', 'laurybratzrivera@gmail.com', 2012, 2.5)\n"
          ],
          "name": "stdout"
        }
      ]
    },
    {
      "cell_type": "code",
      "metadata": {
        "colab": {
          "base_uri": "https://localhost:8080/"
        },
        "id": "HuzuLhIFgjIN",
        "outputId": "a4b7b67b-0b92-44f0-848f-226b4342e8dc"
      },
      "source": [
        "nombre = \"Laura Rivera\"\n",
        "print( nombre[0:4], nombre.count(\"e\"))"
      ],
      "execution_count": 18,
      "outputs": [
        {
          "output_type": "stream",
          "text": [
            "Laur 1\n"
          ],
          "name": "stdout"
        }
      ]
    },
    {
      "cell_type": "code",
      "metadata": {
        "colab": {
          "base_uri": "https://localhost:8080/"
        },
        "id": "8_COy_jjg8xg",
        "outputId": "9d9a08e6-be63-44e2-bece-10445e588ef6"
      },
      "source": [
        "name = [\"L\", \"a\", \"u\", \"r\", \"a\", \"\", \"R\", \"i\", \"v\", \"e\", \"r\", \"a\"]\n",
        "print( name, name[0:4], name.count(\"e\"), name.index(\"e\"))"
      ],
      "execution_count": 20,
      "outputs": [
        {
          "output_type": "stream",
          "text": [
            "['L', 'a', 'u', 'r', 'a', '', 'R', 'i', 'v', 'e', 'r', 'a'] ['L', 'a', 'u', 'r'] 1 9\n"
          ],
          "name": "stdout"
        }
      ]
    },
    {
      "cell_type": "code",
      "metadata": {
        "colab": {
          "base_uri": "https://localhost:8080/"
        },
        "id": "FHH2QHSmhiJa",
        "outputId": "4f667055-80ab-4672-d212-f4adc2285e9a"
      },
      "source": [
        "person = [\"USIS032912\", \"Laura Rivera\", \"Direccion: Ozatlan\", \"26278896\", 2012, 2.5]\n",
        "print(person)\n",
        "#person[6] = 9.1\n",
        "person.insert(2, \"Depto: Uusulutan\")#inserta un valor en el indice 2\n",
        "person.append(\"Python\")#inserta un valor al final\n",
        "#person[6] = 9.1\n",
        "person[ person.index(2.5) ] = 9.1\n",
        "lenguaje = person.pop() # devuelve y borra el ultimo valor\n",
        "print(person, lenguaje) "
      ],
      "execution_count": 21,
      "outputs": [
        {
          "output_type": "stream",
          "text": [
            "['USIS032912', 'Laura Rivera', 'Direccion: Ozatlan', '26278896', 2012, 2.5]\n",
            "['USIS032912', 'Laura Rivera', 'Depto: Uusulutan', 'Direccion: Ozatlan', '26278896', 2012, 9.1] Python\n"
          ],
          "name": "stdout"
        }
      ]
    },
    {
      "cell_type": "code",
      "metadata": {
        "colab": {
          "base_uri": "https://localhost:8080/"
        },
        "id": "KDmOyPmghXJz",
        "outputId": "67703110-a93f-43bb-bc5f-f6283586dcd9"
      },
      "source": [
        "numEnteros = [1,5,2,8,7]\n",
        "numOrdenados = sorted(numEnteros, reverse=True)\n",
        "numReverse = list(reversed(numEnteros))\n",
        "print(\"Lista desordenada: \", numEnteros, \"Lista Ordenada: \", numOrdenados, \"Numeros al reves\", numReverse)"
      ],
      "execution_count": 22,
      "outputs": [
        {
          "output_type": "stream",
          "text": [
            "Lista desordenada:  [1, 5, 2, 8, 7] Lista Ordenada:  [8, 7, 5, 2, 1] Numeros al reves [7, 8, 2, 5, 1]\n"
          ],
          "name": "stdout"
        }
      ]
    }
  ]
}